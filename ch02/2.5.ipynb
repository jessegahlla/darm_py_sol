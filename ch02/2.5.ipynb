{
 "cells": [
  {
   "cell_type": "markdown",
   "metadata": {},
   "source": [
    "# Ex. 2.5\n",
    "\n",
    "Correlated random variables: suppose that the heights of husbands and wives have a correlation of $0.3$. Let $x$ and $y$ be the heights of a married couple chosen at random. What are the mean and standard deviation of the average height, $(x + y)/2$?"
   ]
  },
  {
   "cell_type": "markdown",
   "metadata": {},
   "source": [
    "Let $z$ be the average height $(x + y)/2$\n",
    "\n",
    "$\\overline{z} = \\overline{(x + y)/2} = \\frac{1}{2}\\overline{(x + y)} = \\frac{1}{2}(\\overline{x} + \\overline{y}) = \\frac{1}{2}(\\mu_x + \\mu_y)$"
   ]
  },
  {
   "cell_type": "markdown",
   "metadata": {},
   "source": [
    "The variance of $z$ is:\n",
    "\n",
    "$\\text{Var}(z) = \\text{Var}(\\frac{(x + y)}{2}) = \\frac{1}{2}(\\text{Var}(x) + \\text{Var}(y) + 2\\times\\text{Cov}(x,y)) = \\frac{1}{2}(\\text{Var}(x) + \\text{Var}(y) + 2\\times0.3\\times\\sigma_x\\times\\sigma_y)$\n",
    "\n",
    "The standard deviation is:\n",
    "\n",
    "$\\sigma_z = \\sqrt{\\frac{1}{2}(\\sigma_x^2 + \\sigma_y^2 + 2\\times0.3\\times\\sigma_x\\times\\sigma_y)}$"
   ]
  },
  {
   "cell_type": "code",
   "execution_count": null,
   "metadata": {
    "collapsed": true
   },
   "outputs": [],
   "source": []
  }
 ],
 "metadata": {
  "kernelspec": {
   "display_name": "Python 3",
   "language": "python",
   "name": "python3"
  },
  "language_info": {
   "codemirror_mode": {
    "name": "ipython",
    "version": 3
   },
   "file_extension": ".py",
   "mimetype": "text/x-python",
   "name": "python",
   "nbconvert_exporter": "python",
   "pygments_lexer": "ipython3",
   "version": "3.6.1"
  }
 },
 "nbformat": 4,
 "nbformat_minor": 2
}
