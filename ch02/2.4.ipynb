{
 "cells": [
  {
   "cell_type": "markdown",
   "metadata": {},
   "source": [
    "# Ex. 2.4\n",
    "\n",
    "Distribution of averages and differences: the heights of men in the United States are approximately normally distributed with mean 69.1 inches and standard deviation 2.9 inches. The heights of women are approximately normally distributed with mean 63.7 inches and standard deviation 2.7 inches. Let x be the average height of 100 randomly sampled men, and y be the average height of 100 randomly sampled women. In ~~R~~ Python, create 1000 simulations of x − y and plot their histogram. Using the simulations, compute the mean and standard deviation of the distribution of x − y and compare to their exact values."
   ]
  },
  {
   "cell_type": "code",
   "execution_count": 27,
   "metadata": {
    "collapsed": true
   },
   "outputs": [],
   "source": [
    "from scipy.stats import norm\n",
    "import random\n",
    "import numpy as np\n",
    "import matplotlib.pyplot as plt\n",
    "\n",
    "mean_men_heights = 69.1\n",
    "sd_men_heights = 2.9\n",
    "\n",
    "mean_women_heights = 63.7\n",
    "sd_women_heights = 2.7"
   ]
  },
  {
   "cell_type": "code",
   "execution_count": 28,
   "metadata": {},
   "outputs": [
    {
     "data": {
      "text/plain": [
       "68.74077246117717"
      ]
     },
     "execution_count": 28,
     "metadata": {},
     "output_type": "execute_result"
    }
   ],
   "source": [
    "random.normalvariate(mean_men_heights, sd_men_heights)"
   ]
  },
  {
   "cell_type": "code",
   "execution_count": 41,
   "metadata": {
    "collapsed": true
   },
   "outputs": [],
   "source": [
    "n_simulations = 1000\n",
    "n_people = 100\n",
    "differences = list()\n",
    "\n",
    "for sim in range(n_simulations):\n",
    "    men = list()\n",
    "    women = list()\n",
    "    \n",
    "    for person in range(n_people):\n",
    "        man = random.normalvariate(mean_men_heights, sd_men_heights)\n",
    "        woman = random.normalvariate(mean_women_heights, sd_women_heights)\n",
    "        men.append(man)\n",
    "        women.append(woman)\n",
    "        \n",
    "    x = np.mean(men)\n",
    "    y = np.mean(women)\n",
    "    difference = x - y\n",
    "    differences.append(difference)\n",
    "    \n",
    "difference_array = np.array(differences)"
   ]
  },
  {
   "cell_type": "code",
   "execution_count": 42,
   "metadata": {},
   "outputs": [
    {
     "data": {
      "image/png": "[encoded data removed]",
      "text/plain": [
       "<matplotlib.figure.Figure at 0x11c98bac8>"
      ]
     },
     "metadata": {},
     "output_type": "display_data"
    }
   ],
   "source": [
    "plt.hist(difference_array)\n",
    "plt.xlabel(\"Difference men and women\")\n",
    "plt.ylabel(\"Frequency\")\n",
    "plt.title(\"Histogram of differences\")\n",
    "plt.show()"
   ]
  },
  {
   "cell_type": "code",
   "execution_count": 50,
   "metadata": {},
   "outputs": [],
   "source": [
    "mean_difference = np.mean(differences)\n",
    "sd_difference = np.std(differences)\n",
    "difference_of_means = mean_men_heights - mean_women_heights\n",
    "difference_of_sds = np.sqrt(np.power(sd_men_heights,2)/n_people + np.power(sd_women_heights,2)/n_people)\n"
   ]
  },
  {
   "cell_type": "code",
   "execution_count": 52,
   "metadata": {},
   "outputs": [
    {
     "name": "stdout",
     "output_type": "stream",
     "text": [
      "Mean Difference: 5.398993982729915\n",
      "St. Dev. Difference: 0.3927124664154729\n",
      "Difference of means: 5.3999999999999915\n",
      "Standard Error of differences: 0.396232255123179\n"
     ]
    }
   ],
   "source": [
    "print(\"Mean Difference: {md}\".format(md=mean_difference))\n",
    "print(\"St. Dev. Difference: {sdd}\".format(sdd=sd_difference))\n",
    "print(\"Difference of means: {dm}\".format(dm=difference_of_means))\n",
    "print(\"Standard Error of differences: {ds}\".format(ds=difference_of_sds))"
   ]
  },
  {
   "cell_type": "markdown",
   "metadata": {},
   "source": [
    "The mean of the differences is approximately equal to the difference of the means. The standard deviation of the sampling distribution is the same as standard deviation of the differences."
   ]
  }
 ],
 "metadata": {
  "kernelspec": {
   "display_name": "Python 3",
   "language": "python",
   "name": "python3"
  },
  "language_info": {
   "codemirror_mode": {
    "name": "ipython",
    "version": 3
   },
   "file_extension": ".py",
   "mimetype": "text/x-python",
   "name": "python",
   "nbconvert_exporter": "python",
   "pygments_lexer": "ipython3",
   "version": "3.6.1"
  }
 },
 "nbformat": 4,
 "nbformat_minor": 2
}
