{
 "cells": [
  {
   "cell_type": "markdown",
   "metadata": {},
   "source": [
    "A test is graded from 0 to 50 with an average score of 35 and a standard deviation of 10. For comparison to other tests, it would be convenient to rescale to a mean of 100 and a standard deviation of 15.\n",
    "\n",
    "(a) How can the scores be linearly transformed to have this new mean and standard deviation?\n",
    "\n",
    "(b) There is another linear transformation that also rescales the scores to have mean 100 and standard deviation 15. What is it, and why would you not want to use it for this purpose?"
   ]
  },
  {
   "cell_type": "code",
   "execution_count": 10,
   "metadata": {},
   "outputs": [
    {
     "name": "stdout",
     "output_type": "stream",
     "text": [
      "1.5\n",
      "47.5\n"
     ]
    }
   ],
   "source": [
    "import numpy as np\n",
    "\n",
    "# Part A\n",
    "\n",
    "originalScore = 35\n",
    "originalStDev = 10\n",
    "\n",
    "finalScore = 100\n",
    "finalStDev = 15\n",
    "\n",
    "slope = finalStDev/originalStDev\n",
    "intercept = finalScore - slope*originalScore\n",
    "print(slope)\n",
    "print(intercept)"
   ]
  },
  {
   "cell_type": "markdown",
   "metadata": {},
   "source": [
    "**A.**  transformation would be y = 1.5x + 47.5."
   ]
  },
  {
   "cell_type": "markdown",
   "metadata": {},
   "source": [
    "**B.** If the slope was now negative (-1.5), then b would be 152.5. So a person scoring 0 would have a score of 152.5, and a score of 50 would be 77.5. It makes a person with a perfect score have a lower score than a person who completely failed."
   ]
  }
 ],
 "metadata": {
  "kernelspec": {
   "display_name": "Python 3",
   "language": "python",
   "name": "python3"
  },
  "language_info": {
   "codemirror_mode": {
    "name": "ipython",
    "version": 3
   },
   "file_extension": ".py",
   "mimetype": "text/x-python",
   "name": "python",
   "nbconvert_exporter": "python",
   "pygments_lexer": "ipython3",
   "version": "3.6.1"
  }
 },
 "nbformat": 4,
 "nbformat_minor": 2
}
