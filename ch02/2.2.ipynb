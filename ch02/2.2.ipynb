{
 "cells": [
  {
   "cell_type": "markdown",
   "metadata": {},
   "source": [
    "# Exercise 2.2\n",
    "\n",
    "The following are the proportions of girl births in Vienna for each month in 1908 and 1909 (out of an average of 3900 births per month):\n",
    "\n",
    ".4777 .4875 .4859 .4754 .4874 .4864 .4813 .4787 .4895 .4797 .4876 .4859 .4857 .4907 .5010 .4903 .4860 .4911 .4871 .4725 .4822 .4870 .4823 .4973\n",
    "\n",
    "The data are in the folder girls. von Mises (1957) used these proportions to claim that the sex ratios were less variable than would be expected by chance.\n",
    "\n",
    "(a) Compute the standard deviation of these proportions and compare to the standard deviation that would be expected if the sexes of babies were inde- pendently decided with a constant probability over the 24-month period.\n",
    "\n",
    "(b) The actual and theoretical standard deviations from (a) differ, of course. Is this difference statistically significant? (Hint: under the randomness model, the actual variance should have a distribution with expected value equal to the theoretical variance, and proportional to a χ2 with 23 degrees of freedom.)"
   ]
  },
  {
   "cell_type": "code",
   "execution_count": 17,
   "metadata": {
    "collapsed": true
   },
   "outputs": [],
   "source": [
    "import numpy as np\n",
    "\n",
    "girl_births_observed = [.4777, .4875, .4859, .4754, .4874, .4864,\n",
    "               .4813, .4787, .4895, .4797, .4876, .4859, \n",
    "               .4857, .4907, .5010, .4903, .4860, .4911, \n",
    "               .4871, .4725, .4822, .4870, .4823, .4973]\n",
    "\n",
    "monthly_average_births = 3900"
   ]
  },
  {
   "cell_type": "code",
   "execution_count": 51,
   "metadata": {},
   "outputs": [],
   "source": [
    "# Part A\n",
    "girl_births_obs_std_dev = np.std(girl_births_observed)\n",
    "\n",
    "girl_births_mean = np.mean(girl_births_observed)\n",
    "\n",
    "# The variance of a sample mean for a binomial distribution is kqp/n.\n",
    "# For a bernoulli trial, k = 1\n",
    "# The standard error is the square root of this.\n",
    "\n",
    "girl_births_std_error_expected = np.sqrt(girl_births_mean*(1-girl_births_mean)/monthly_average_births)"
   ]
  },
  {
   "cell_type": "markdown",
   "metadata": {},
   "source": [
    "The expected deviation if the sexes of the babies were independently decided with constant probability is 0.008. The observed deviation is 0.006."
   ]
  },
  {
   "cell_type": "code",
   "execution_count": 61,
   "metadata": {},
   "outputs": [],
   "source": [
    "# Part B\n",
    "alpha = 0.05\n",
    "upper_bound = stats.chisquare.\n",
    "lower_bound = stats.chisquare(1 - (alpha/2), dof)"
   ]
  },
  {
   "cell_type": "code",
   "execution_count": 79,
   "metadata": {},
   "outputs": [
    {
     "name": "stdout",
     "output_type": "stream",
     "text": [
      "11.6885519225\n",
      "38.0756272504\n",
      "14.138532976\n"
     ]
    }
   ],
   "source": [
    "from scipy import stats\n",
    "\n",
    "dof = len(girl_births_observed) - 1\n",
    "\n",
    "upper_stat = stats.chi2.ppf(alpha/2, dof)\n",
    "lower_stat = stats.chi2.ppf(1-(alpha/2), dof)\n",
    "test_statistic = dof*np.power((girl_births_obs_std_dev/girl_births_std_error_expected),2)\n",
    "\n",
    "print(upper_stat)\n",
    "print(lower_stat)\n",
    "print(test_statistic)"
   ]
  },
  {
   "cell_type": "markdown",
   "metadata": {},
   "source": [
    "Because the test statistic (14.139) is not lower than 11.689 nor higher than 38.07, we do not reject the null hypothesis."
   ]
  },
  {
   "cell_type": "code",
   "execution_count": null,
   "metadata": {
    "collapsed": true
   },
   "outputs": [],
   "source": []
  }
 ],
 "metadata": {
  "kernelspec": {
   "display_name": "Python 3",
   "language": "python",
   "name": "python3"
  },
  "language_info": {
   "codemirror_mode": {
    "name": "ipython",
    "version": 3
   },
   "file_extension": ".py",
   "mimetype": "text/x-python",
   "name": "python",
   "nbconvert_exporter": "python",
   "pygments_lexer": "ipython3",
   "version": "3.6.1"
  }
 },
 "nbformat": 4,
 "nbformat_minor": 2
}
