{
 "cells": [
  {
   "cell_type": "markdown",
   "metadata": {},
   "source": [
    "Suppose that, for a certain population, we can predict log earnings from log height as follows:\n",
    "* A person who is 66 inches tall is predicted to have earnings of $30,000\n",
    "* Every increase of 1% in height corresponds to a predicted increase of 0.8% in earnings.\n",
    "* The earnings of approximately 95% of people fall within a factor of 1.1 of predicted values.\n",
    "\n",
    "a. Give the equation of the regression line and the residual standard deviation of the regression.\n",
    "\n",
    "b. Suppose the standard deviation of log heights is 5% in this population. What, then, is the $R^2$ of the regression model described here?"
   ]
  },
  {
   "cell_type": "markdown",
   "metadata": {},
   "source": [
    "### Part A\n",
    "\n",
    "This is a geometric curve"
   ]
  },
  {
   "cell_type": "markdown",
   "metadata": {},
   "source": [
    "$$\\ln{y} = m\\ln{x} + b$$\n",
    "$$y = e^{m\\ln{x}}*e^b$$\n",
    "$$1.008*y = e^{m\\ln{1.01*x}}*e^b$$\n",
    "$$\\frac{1.008*y}{y} = \\frac{e^{m\\ln{1.01*x}}*e^b}{e^{m\\ln{x}}*e^b}$$\n",
    "$$1.008*e^{m\\ln{x}} = e^{m\\ln{1.01*x}}$$\n",
    "$$1.008 = \\frac{e^{m\\ln{1.01*x}}}{e^{m\\ln{x}}}$$\n",
    "$$1.008 = [\\frac{1.01*x}{x}]^m$$\n",
    "$$1.008 = 1.01^m$$\n",
    "$$\\ln{1.008}=m*\\ln{1.01}$$\n",
    "$$m=\\frac{\\ln{1.008}}{\\ln{1.01}}$$"
   ]
  },
  {
   "cell_type": "code",
   "execution_count": 12,
   "metadata": {},
   "outputs": [
    {
     "name": "stdout",
     "output_type": "stream",
     "text": [
      "0.800794442593\n"
     ]
    }
   ],
   "source": [
    "import numpy as np\n",
    "\n",
    "m = np.log(1.008)/np.log(1.01)\n",
    "print(m)"
   ]
  },
  {
   "cell_type": "markdown",
   "metadata": {},
   "source": [
    "$$b = \\ln{y} - m*\\ln{x}$$\n",
    "$$b = \\ln{30000} - 0.800794442593*\\ln{66}$$"
   ]
  },
  {
   "cell_type": "code",
   "execution_count": 13,
   "metadata": {},
   "outputs": [
    {
     "name": "stdout",
     "output_type": "stream",
     "text": [
      "6.95390042685\n"
     ]
    }
   ],
   "source": [
    "b = np.log(30000) - m*np.log(66)\n",
    "print(b)"
   ]
  },
  {
   "cell_type": "markdown",
   "metadata": {},
   "source": [
    "$$\\ln{y} = 0.801*\\ln{x} + 6.95$$"
   ]
  },
  {
   "cell_type": "markdown",
   "metadata": {},
   "source": [
    "#### Residual Standard Deviation of the Regression"
   ]
  },
  {
   "cell_type": "markdown",
   "metadata": {},
   "source": [
    "$95%$ of observations fall within $2$ standard errors of the mean. Because $95%$ of observations are said to fall within a factor of $1.1$ of predicted values, then this factor should be equal to $2\\times\\text{s.e.}$.\n",
    "\n",
    "A representation of this range is $[\\frac{y}{1.1},1.1y]$. The log of the earnings in this range is between $\\ln{y}\\pm\\ln{1.1}$. Because $\\ln{y}$ is the mean, then $\\ln{1.1} = 2\\times\\text{s.e.}$."
   ]
  },
  {
   "cell_type": "code",
   "execution_count": 16,
   "metadata": {},
   "outputs": [
    {
     "name": "stdout",
     "output_type": "stream",
     "text": [
      "0.0476550899022\n"
     ]
    }
   ],
   "source": [
    "standard_deviation = np.log(1.1)/2\n",
    "print(standard_deviation)"
   ]
  },
  {
   "cell_type": "markdown",
   "metadata": {},
   "source": [
    "### Part B\n",
    "The standard deviation of log heights is 5% in this population. The standard error is $\\ln(1.1)/2$. The equation for the $R^2$ is as follows: \n",
    "$$R^2 = 1 - \\frac{VAR_{res}}{VAR_{tot}}$$"
   ]
  },
  {
   "cell_type": "code",
   "execution_count": 21,
   "metadata": {},
   "outputs": [
    {
     "name": "stdout",
     "output_type": "stream",
     "text": [
      "0.0915969625667\n"
     ]
    }
   ],
   "source": [
    "var_residual = np.power(np.log(1.1)/2,2)\n",
    "var_tot = np.power(.05, 2)\n",
    "\n",
    "r_squared = 1 - var_residual/var_tot\n",
    "\n",
    "print(r_squared)"
   ]
  },
  {
   "cell_type": "code",
   "execution_count": null,
   "metadata": {
    "collapsed": true
   },
   "outputs": [],
   "source": []
  }
 ],
 "metadata": {
  "kernelspec": {
   "display_name": "Python 3",
   "language": "python",
   "name": "python3"
  },
  "language_info": {
   "codemirror_mode": {
    "name": "ipython",
    "version": 3
   },
   "file_extension": ".py",
   "mimetype": "text/x-python",
   "name": "python",
   "nbconvert_exporter": "python",
   "pygments_lexer": "ipython3",
   "version": "3.6.1"
  }
 },
 "nbformat": 4,
 "nbformat_minor": 2
}
