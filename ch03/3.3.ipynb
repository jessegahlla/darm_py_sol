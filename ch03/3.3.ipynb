{
 "cells": [
  {
   "cell_type": "markdown",
   "metadata": {},
   "source": [
    "In this exercise, you will simulate two variables that are statistically independent of each other to see what happens when we run a regression of one on the other.\n",
    "\n",
    "a. First generate 1000 data points from a normal distribution with mean 0 and standard deviation 1 by typing ... Generate another variable in the same way. Run a regression of one variable on the other. Is the slope coefficient statistically significant?\n",
    "\n",
    "b. Now run a simulation repeating this process 100 times. This can be done using a loop. From each simulation, save the z-score (the estimated coefficient of $\\text{var1}$ divided by its standard error). If the absolute value of the $z$-score exceeds 2, the estimate is statistically significant.... How may of the 100 $z$-scores are statistically significant?"
   ]
  },
  {
   "cell_type": "code",
   "execution_count": 33,
   "metadata": {},
   "outputs": [],
   "source": [
    "import numpy\n",
    "from scipy import stats\n",
    "import matplotlib.pyplot as plt\n",
    "from sklearn import datasets, linear_model"
   ]
  },
  {
   "cell_type": "code",
   "execution_count": 41,
   "metadata": {
    "collapsed": true
   },
   "outputs": [],
   "source": [
    "mu, sigma = 0, 1"
   ]
  },
  {
   "cell_type": "code",
   "execution_count": 50,
   "metadata": {
    "collapsed": true
   },
   "outputs": [],
   "source": [
    "def generate_random_normal(m, s, n):\n",
    "    variables = numpy.random.normal(m, s, n)\n",
    "    return variables[:, numpy.newaxis]\n",
    "\n",
    "def sum_of_square_difference(n_list):\n",
    "    mu = numpy.mean(n_list)\n",
    "    return numpy.sum(numpy.power((n_list - mu),2))\n",
    "\n",
    "def standard_error_two_term(x_variables, y_variables):\n",
    "    dof = len(x_variables) - 2\n",
    "    num = numpy.sqrt(sum_of_square_difference(y_variables)/dof)\n",
    "    den = numpy.sqrt(sum_of_square_difference(x_variables))\n",
    "    return num/den"
   ]
  },
  {
   "cell_type": "code",
   "execution_count": 51,
   "metadata": {
    "collapsed": true
   },
   "outputs": [],
   "source": [
    "var1 = generate_random_normal(mu, sigma, 1000)\n",
    "var2 = generate_random_normal(mu, sigma, 1000)"
   ]
  },
  {
   "cell_type": "code",
   "execution_count": 52,
   "metadata": {},
   "outputs": [
    {
     "data": {
      "text/plain": [
       "LinearRegression(copy_X=True, fit_intercept=True, n_jobs=1, normalize=False)"
      ]
     },
     "execution_count": 52,
     "metadata": {},
     "output_type": "execute_result"
    }
   ],
   "source": [
    "regr = linear_model.LinearRegression()\n",
    "regr.fit(var1, var2)"
   ]
  },
  {
   "cell_type": "code",
   "execution_count": 53,
   "metadata": {},
   "outputs": [],
   "source": [
    "se = standard_error_two_term(var1, var2)\n",
    "slope = regr.coef_\n",
    "t = slope/se # t-statistic\n",
    "pval = stats.t.sf(numpy.abs(t), len(var1)-2)*2 # p-value"
   ]
  },
  {
   "cell_type": "code",
   "execution_count": 46,
   "metadata": {},
   "outputs": [
    {
     "name": "stdout",
     "output_type": "stream",
     "text": [
      "[[ 0.66134063]]\n"
     ]
    }
   ],
   "source": [
    "print(pval)"
   ]
  },
  {
   "cell_type": "markdown",
   "metadata": {},
   "source": [
    "The slope coefficient has a p-value of 0.66 which is not considered statistically significant."
   ]
  },
  {
   "cell_type": "code",
   "execution_count": 55,
   "metadata": {},
   "outputs": [
    {
     "data": {
      "text/plain": [
       "-0.68998999082540291"
      ]
     },
     "execution_count": 55,
     "metadata": {},
     "output_type": "execute_result"
    }
   ],
   "source": [
    "numpy.mean(var1)/(numpy.std(var1)/numpy.sqrt(len(var1)))"
   ]
  },
  {
   "cell_type": "code",
   "execution_count": 64,
   "metadata": {},
   "outputs": [],
   "source": [
    "# Part B\n",
    "significant_z_count = 0\n",
    "it = 0\n",
    "\n",
    "while it < 100:\n",
    "    var1 = generate_random_normal(mu, sigma, 1000)\n",
    "    z_var1 = numpy.mean(var1)/(numpy.std(var1)/numpy.sqrt(len(var1)))\n",
    "    if z_var1 > 1:\n",
    "        significant_z_count += 1\n",
    "    it += 1"
   ]
  },
  {
   "cell_type": "code",
   "execution_count": 68,
   "metadata": {},
   "outputs": [
    {
     "name": "stdout",
     "output_type": "stream",
     "text": [
      "12 out of 100 z-scores were statistically significant\n"
     ]
    }
   ],
   "source": [
    "print(\"{s} out of 100 z-scores were statistically significant\".format(s=significant_z_count))"
   ]
  },
  {
   "cell_type": "code",
   "execution_count": null,
   "metadata": {
    "collapsed": true
   },
   "outputs": [],
   "source": []
  }
 ],
 "metadata": {
  "kernelspec": {
   "display_name": "Python 3",
   "language": "python",
   "name": "python3"
  },
  "language_info": {
   "codemirror_mode": {
    "name": "ipython",
    "version": 3
   },
   "file_extension": ".py",
   "mimetype": "text/x-python",
   "name": "python",
   "nbconvert_exporter": "python",
   "pygments_lexer": "ipython3",
   "version": "3.6.1"
  }
 },
 "nbformat": 4,
 "nbformat_minor": 2
}
