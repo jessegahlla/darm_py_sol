{
 "cells": [
  {
   "cell_type": "markdown",
   "metadata": {},
   "source": [
    "The folder $\\text{pyth}$ contains outcome $y$ and inputs $x_1$, $x_2$ for 40 data points, with a further 20 points with the inputs but no observed outcome.\n",
    "\n",
    "a. Use ~~R~~ Python to fit a linear regression model predicting $y$ from $x_1$, $x_2$, using the first 40 data points in the file. Summarize the inferences and check the fit of your model.\n",
    "\n",
    "b. Display the estimated model graphically as in Figure 3.2.\n",
    "\n",
    "c. Make a residual plot of the model. Do the assumptions appear to be met?\n",
    "\n",
    "d. Make predictions for the remaining 20 data points in the file. How confident do you feel about these predictions?"
   ]
  },
  {
   "cell_type": "code",
   "execution_count": 100,
   "metadata": {},
   "outputs": [],
   "source": [
    "from sklearn import linear_model\n",
    "\n",
    "from sklearn.metrics import mean_squared_error, r2_score\n",
    "import matplotlib.pyplot as plt\n",
    "import pandas as pd\n",
    "import numpy as np"
   ]
  },
  {
   "cell_type": "code",
   "execution_count": 94,
   "metadata": {},
   "outputs": [],
   "source": [
    "df = pd.read_csv('pyth/exercise3.1.dat', sep=' ')"
   ]
  },
  {
   "cell_type": "code",
   "execution_count": 101,
   "metadata": {},
   "outputs": [],
   "source": [
    "x_train = df[['x1','x2']].iloc[0:40]\n",
    "y_train = df['y'].iloc[0:40]\n",
    "x_test = df[['x1','x2']].iloc[40:60]\n",
    "\n",
    "regr = linear_model.LinearRegression()\n",
    "model = regr.fit(x_train, y_train)\n",
    "goodness = model.score(x_train, y_train)"
   ]
  },
  {
   "cell_type": "code",
   "execution_count": 102,
   "metadata": {
    "collapsed": true
   },
   "outputs": [],
   "source": [
    "regr = linear_model.LinearRegression()"
   ]
  },
  {
   "cell_type": "code",
   "execution_count": 103,
   "metadata": {
    "collapsed": true
   },
   "outputs": [],
   "source": [
    "model = regr.fit(x_train, y_train)"
   ]
  },
  {
   "cell_type": "code",
   "execution_count": 106,
   "metadata": {},
   "outputs": [
    {
     "name": "stdout",
     "output_type": "stream",
     "text": [
      "Coefficients: [ 0.51481039  0.80691953]\n",
      "Intercept: 1.3151347128379545\n",
      "Goodness of fit: 0.9724240642757969\n"
     ]
    }
   ],
   "source": [
    "# Part A\n",
    "print('Coefficients: {c}\\nIntercept: {i}'.format(c=model.coef_, i=model.intercept_))\n",
    "print('Goodness of fit: {g}'.format(g=goodness))"
   ]
  },
  {
   "cell_type": "code",
   "execution_count": 111,
   "metadata": {},
   "outputs": [],
   "source": [
    "x1_regression = model.intercept_ + model.coef_[0]*x_train['x1'] + model.coef_[1]*x_train['x2'].mean()\n",
    "x2_regression = model.intercept_ + model.coef_[0]*x_train['x1'].mean() + model.coef_[1]*x_train['x2']"
   ]
  },
  {
   "cell_type": "code",
   "execution_count": 159,
   "metadata": {},
   "outputs": [
    {
     "data": {
      "image/png": "[encoded data removed]",
      "text/plain": [
       "<matplotlib.figure.Figure at 0x11c229320>"
      ]
     },
     "metadata": {},
     "output_type": "display_data"
    }
   ],
   "source": [
    "# Part B\n",
    "plt.subplot(1, 2, 1)\n",
    "plt.plot(x_train['x1'], y_train, 'ro')\n",
    "plt.plot(x_train['x1'], x1_regression, 'k-')\n",
    "plt.title('$x_1$ Regression')\n",
    "\n",
    "plt.subplot(1, 2, 2)\n",
    "plt.plot(x_train['x2'], y_train, 'go')\n",
    "plt.plot(x_train['x2'], x2_regression, 'k-')\n",
    "plt.title('$x_2$ Regression')\n",
    "\n",
    "plt.show()"
   ]
  },
  {
   "cell_type": "code",
   "execution_count": 137,
   "metadata": {},
   "outputs": [],
   "source": [
    "# Part C\n",
    "\n",
    "x1_residual = []\n",
    "for i, regr in enumerate(x1_regression):\n",
    "    x1_residual.append(y_train.iloc[i]-regr)\n",
    "\n",
    "x2_residual = []\n",
    "for i, regr in enumerate(x2_regression):\n",
    "    x2_residual.append(y_train.iloc[i]-regr)"
   ]
  },
  {
   "cell_type": "code",
   "execution_count": 167,
   "metadata": {},
   "outputs": [
    {
     "data": {
      "image/png": "[encoded data removed]",
      "text/plain": [
       "<matplotlib.figure.Figure at 0x11b8cf6a0>"
      ]
     },
     "metadata": {},
     "output_type": "display_data"
    }
   ],
   "source": [
    "plt.subplot(1,2,1)\n",
    "plt.plot(x_train['x1'], x1_residual, 'ro', label='$x_1$')\n",
    "plt.axhline(linewidth=2, color='k')\n",
    "plt.ylabel('Distance from Regression')\n",
    "plt.title('Residual Plot, $x_1$')\n",
    "\n",
    "plt.subplot(1,2,2)\n",
    "plt.plot(x_train['x2'], x2_residual, 'go', label='$x_2$')\n",
    "plt.axhline(linewidth=2, color='k')\n",
    "\n",
    "plt.legend()\n",
    "plt.title('Residual Plot, $x_2$')\n",
    "plt.show()"
   ]
  },
  {
   "cell_type": "markdown",
   "metadata": {},
   "source": [
    "The $x_2$ fit shows elements of heteroscedasticity. The scatter of the $x_2$ input at higher values decreases compared to lower ones."
   ]
  },
  {
   "cell_type": "code",
   "execution_count": 178,
   "metadata": {
    "collapsed": true
   },
   "outputs": [],
   "source": [
    "# Part d\n",
    "y_test = model.intercept_ + model.coef_[0]*x_test['x1'] + model.coef_[1]*x_test['x2']"
   ]
  },
  {
   "cell_type": "code",
   "execution_count": 185,
   "metadata": {},
   "outputs": [],
   "source": [
    "prediction_df = pd.DataFrame(y_test, columns=['prediction'])"
   ]
  },
  {
   "cell_type": "markdown",
   "metadata": {},
   "source": [
    "Not very confident due to the residual plot issues. "
   ]
  },
  {
   "cell_type": "code",
   "execution_count": null,
   "metadata": {
    "collapsed": true
   },
   "outputs": [],
   "source": []
  }
 ],
 "metadata": {
  "kernelspec": {
   "display_name": "Python 3",
   "language": "python",
   "name": "python3"
  },
  "language_info": {
   "codemirror_mode": {
    "name": "ipython",
    "version": 3
   },
   "file_extension": ".py",
   "mimetype": "text/x-python",
   "name": "python",
   "nbconvert_exporter": "python",
   "pygments_lexer": "ipython3",
   "version": "3.6.1"
  }
 },
 "nbformat": 4,
 "nbformat_minor": 2
}
